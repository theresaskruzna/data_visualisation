{
  "nbformat": 4,
  "nbformat_minor": 0,
  "metadata": {
    "colab": {
      "provenance": [],
      "toc_visible": true,
      "authorship_tag": "ABX9TyOrT5KWKTLOfPOtOm7QmuW3",
      "include_colab_link": true
    },
    "kernelspec": {
      "name": "python3",
      "display_name": "Python 3"
    },
    "language_info": {
      "name": "python"
    }
  },
  "cells": [
    {
      "cell_type": "markdown",
      "metadata": {
        "id": "view-in-github",
        "colab_type": "text"
      },
      "source": [
        "<a href=\"https://colab.research.google.com/github/theresaskruzna/data_visualisation/blob/main/data_visualisation_template.ipynb\" target=\"_parent\"><img src=\"https://colab.research.google.com/assets/colab-badge.svg\" alt=\"Open In Colab\"/></a>"
      ]
    },
    {
      "cell_type": "markdown",
      "source": [
        "# Bar chart"
      ],
      "metadata": {
        "id": "xQuLVbqiOOkL"
      }
    },
    {
      "cell_type": "markdown",
      "source": [
        "Bar charts in one column"
      ],
      "metadata": {
        "id": "6XQ46gYpOZKS"
      }
    },
    {
      "cell_type": "code",
      "source": [
        "for column in maths.columns:\n",
        "    plt.figure(figsize=(8, 6))  # Adjust figure size if needed\n",
        "    sns.countplot(data=maths, x=column)\n",
        "    plt.title(f'Distribution of {column}')  # Add a title for clarity\n",
        "    plt.xticks(rotation=45, ha='right')  # Rotate x-axis labels if they overlap\n",
        "    plt.show()"
      ],
      "metadata": {
        "id": "nuvGvLx3OOTy"
      },
      "execution_count": null,
      "outputs": []
    },
    {
      "cell_type": "markdown",
      "source": [
        "Bar charts in a grid"
      ],
      "metadata": {
        "id": "5fw8yVEOObqr"
      }
    },
    {
      "cell_type": "code",
      "source": [],
      "metadata": {
        "id": "F2PUrvpqOROw"
      },
      "execution_count": null,
      "outputs": []
    },
    {
      "cell_type": "markdown",
      "source": [
        "# Histogram"
      ],
      "metadata": {
        "id": "eWH6kjugOfL-"
      }
    },
    {
      "cell_type": "markdown",
      "source": [
        "Histograms in one column"
      ],
      "metadata": {
        "id": "02RnFRXrOoEu"
      }
    },
    {
      "cell_type": "code",
      "source": [
        "for column in maths.columns:\n",
        "    plt.figure(figsize=(8, 6))\n",
        "    sns.histplot(data=maths[column], bins=30, kde=True, color='blue')\n",
        "    plt.title(f'Distribution of {column}')\n",
        "    plt.xlabel(column)\n",
        "    plt.ylabel(\"Frequency\")\n",
        "    plt.show()"
      ],
      "metadata": {
        "id": "Apze21mSOesy"
      },
      "execution_count": null,
      "outputs": []
    },
    {
      "cell_type": "markdown",
      "source": [
        "Histograms in a grid"
      ],
      "metadata": {
        "id": "mhrym4m0OrkY"
      }
    },
    {
      "cell_type": "code",
      "source": [],
      "metadata": {
        "id": "-Iy_toXXOrNO"
      },
      "execution_count": null,
      "outputs": []
    },
    {
      "cell_type": "markdown",
      "source": [
        "# Box plot"
      ],
      "metadata": {
        "id": "Ndpi6CoDMOyK"
      }
    },
    {
      "cell_type": "markdown",
      "source": [
        "Box plots in one column"
      ],
      "metadata": {
        "id": "c5Tn7CMpMb_e"
      }
    },
    {
      "cell_type": "code",
      "execution_count": null,
      "metadata": {
        "id": "OhSYUnzbLcSh"
      },
      "outputs": [],
      "source": [
        "for column in maths.select_dtypes(include=np.number):\n",
        "    plt.figure(figsize=(4, 6))\n",
        "    sns.boxplot(y=maths[column])\n",
        "    plt.title(f'Distribution of {column}')\n",
        "    plt.show()"
      ]
    },
    {
      "cell_type": "markdown",
      "source": [
        "Box plots in a grid"
      ],
      "metadata": {
        "id": "WLr2HMo-NHAT"
      }
    },
    {
      "cell_type": "code",
      "source": [
        "# Select numerical columns\n",
        "numerical_cols = maths.select_dtypes(include=np.number).columns\n",
        "\n",
        "# Calculate the number of rows and columns for the subplots\n",
        "num_cols = 5  # Number of columns per row\n",
        "num_rows = int(np.ceil(len(numerical_cols) / num_cols))  # Calculate the number of rows needed\n",
        "\n",
        "# Create a figure and axes\n",
        "fig, axes = plt.subplots(num_rows, num_cols, figsize=(20, num_rows * 5))\n",
        "\n",
        "# Flatten the axes array for easier iteration\n",
        "axes = axes.flatten()\n",
        "\n",
        "# Plot KDEs in a loop\n",
        "for i, col in enumerate(numerical_cols):\n",
        "    sns.boxplot(data=maths[col], fill=True, ax=axes[i])\n",
        "    axes[i].set_title(f'Density of {col}')\n",
        "    axes[i].set_xlabel(col)\n",
        "    axes[i].set_ylabel('Density')\n",
        "\n",
        "# Hide any extra empty subplots\n",
        "for i in range(len(numerical_cols), num_rows * num_cols):\n",
        "    axes[i].set_visible(False)\n",
        "\n",
        "plt.tight_layout()\n",
        "plt.show()"
      ],
      "metadata": {
        "id": "jTeGKk2NMW5L"
      },
      "execution_count": null,
      "outputs": []
    },
    {
      "cell_type": "markdown",
      "source": [
        "# KDE plot"
      ],
      "metadata": {
        "id": "xU44einaNJcC"
      }
    },
    {
      "cell_type": "markdown",
      "source": [
        "KDE plots in one column"
      ],
      "metadata": {
        "id": "989sCkueNokL"
      }
    },
    {
      "cell_type": "code",
      "source": [
        "for column in maths.select_dtypes(include=np.number):\n",
        "    plt.figure(figsize=(8, 6))\n",
        "    sns.kdeplot(data=maths[column], fill=True)\n",
        "    plt.title(f'Density of {column}')\n",
        "    plt.xlabel(column)\n",
        "    plt.ylabel('Density')\n",
        "    plt.show()"
      ],
      "metadata": {
        "id": "5NQzr_gENJC_"
      },
      "execution_count": null,
      "outputs": []
    },
    {
      "cell_type": "markdown",
      "source": [
        "KDE plots in a grid"
      ],
      "metadata": {
        "id": "dIc7adiSNshB"
      }
    },
    {
      "cell_type": "code",
      "source": [
        "# Select numerical columns\n",
        "numerical_cols = maths.select_dtypes(include=np.number).columns\n",
        "\n",
        "# Calculate the number of rows and columns for the subplots\n",
        "num_cols = 5  # Number of columns per row\n",
        "num_rows = int(np.ceil(len(numerical_cols) / num_cols))  # Calculate the number of rows needed\n",
        "\n",
        "# Create a figure and axes\n",
        "fig, axes = plt.subplots(num_rows, num_cols, figsize=(20, num_rows * 5))\n",
        "\n",
        "# Flatten the axes array for easier iteration\n",
        "axes = axes.flatten()\n",
        "\n",
        "# Plot KDEs in a loop\n",
        "for i, col in enumerate(numerical_cols):\n",
        "    sns.kdeplot(data=maths[col], fill=True, ax=axes[i])\n",
        "    axes[i].set_title(f'Density of {col}')\n",
        "    axes[i].set_xlabel(col)\n",
        "    axes[i].set_ylabel('Density')\n",
        "\n",
        "# Hide any extra empty subplots\n",
        "for i in range(len(numerical_cols), num_rows * num_cols):\n",
        "    axes[i].set_visible(False)\n",
        "\n",
        "plt.tight_layout()\n",
        "plt.show()"
      ],
      "metadata": {
        "id": "l8HH7PG2NijS"
      },
      "execution_count": null,
      "outputs": []
    },
    {
      "cell_type": "markdown",
      "source": [
        "# Heat map"
      ],
      "metadata": {
        "id": "m4KMZ_GXNwnB"
      }
    },
    {
      "cell_type": "code",
      "source": [
        "plt.figure(figsize=(20, 10))\n",
        "sns.heatmap(maths_encoded.corr(), annot=True, cmap='coolwarm', fmt=\".2f\")\n",
        "plt.title('Correlation Matrix Heatmap')\n",
        "plt.show()"
      ],
      "metadata": {
        "id": "p7tnfkv7NwVU"
      },
      "execution_count": null,
      "outputs": []
    },
    {
      "cell_type": "markdown",
      "source": [
        "# Scatter plot"
      ],
      "metadata": {
        "id": "v25d4nJJPVYK"
      }
    },
    {
      "cell_type": "code",
      "source": [
        "plt.figure(figsize=(8, 6))\n",
        "plt.scatter(maths_encoded['Dalc'], maths_encoded['G3'])\n",
        "plt.xlabel('Workday Alcohol Consumption (Dalc)')\n",
        "plt.ylabel('Final Grade (G3)')\n",
        "plt.title('Scatter Plot of Dalc vs. G3')\n",
        "plt.show()"
      ],
      "metadata": {
        "id": "AHJgJVHRPY-H"
      },
      "execution_count": null,
      "outputs": []
    },
    {
      "cell_type": "markdown",
      "source": [
        "# SMOTE\n",
        "\n"
      ],
      "metadata": {
        "id": "LaZQG_wFi_kX"
      }
    },
    {
      "cell_type": "code",
      "source": [
        "# 1. Identify your target variable (replace 'G3' with your actual target column)\n",
        "target_variable = 'G3'\n",
        "\n",
        "# 2. Separate features (X) and target (y)\n",
        "X = maths_encoded.drop(columns=[target_variable])\n",
        "y = maths_encoded[target_variable]\n",
        "\n",
        "# 3. Check for class imbalance (optional, but recommended)\n",
        "print(y.value_counts())  # Print the distribution of your target variable\n",
        "\n",
        "# 4. Apply SMOTE if needed\n",
        "smote = SMOTE(random_state=42)  # Create a SMOTE instance\n",
        "X_resampled, y_resampled = smote.fit_resample(X, y)  # Resample the data\n",
        "\n",
        "# 5. Update your DataFrame (optional)\n",
        "maths_encoded_resampled = pd.concat([X_resampled, y_resampled], axis=1)"
      ],
      "metadata": {
        "id": "JXENHdwZi8D5"
      },
      "execution_count": null,
      "outputs": []
    }
  ]
}